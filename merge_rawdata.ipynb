{
 "cells": [
  {
   "cell_type": "code",
   "execution_count": 1,
   "id": "40ed904e",
   "metadata": {},
   "outputs": [
    {
     "name": "stdout",
     "output_type": "stream",
     "text": [
      "Requirement already satisfied: pandas in /Users/anaconda3/lib/python3.12/site-packages (2.2.2)\n",
      "Requirement already satisfied: openpyxl in /Users/anaconda3/lib/python3.12/site-packages (3.1.5)\n",
      "Requirement already satisfied: numpy>=1.26.0 in /Users/anaconda3/lib/python3.12/site-packages (from pandas) (1.26.4)\n",
      "Requirement already satisfied: python-dateutil>=2.8.2 in /Users/anaconda3/lib/python3.12/site-packages (from pandas) (2.9.0.post0)\n",
      "Requirement already satisfied: pytz>=2020.1 in /Users/anaconda3/lib/python3.12/site-packages (from pandas) (2024.1)\n",
      "Requirement already satisfied: tzdata>=2022.7 in /Users/anaconda3/lib/python3.12/site-packages (from pandas) (2023.3)\n",
      "Requirement already satisfied: et-xmlfile in /Users/anaconda3/lib/python3.12/site-packages (from openpyxl) (1.1.0)\n",
      "Requirement already satisfied: six>=1.5 in /Users/anaconda3/lib/python3.12/site-packages (from python-dateutil>=2.8.2->pandas) (1.16.0)\n",
      "Note: you may need to restart the kernel to use updated packages.\n"
     ]
    }
   ],
   "source": [
    "pip install pandas openpyxl"
   ]
  },
  {
   "cell_type": "code",
   "execution_count": 4,
   "id": "3fc3b3f8",
   "metadata": {},
   "outputs": [
    {
     "name": "stdout",
     "output_type": "stream",
     "text": [
      "合并完成，结果已保存到: /Users/nicole/Desktop/merge_rawdata.csv\n"
     ]
    }
   ],
   "source": [
    "import pandas as pd\n",
    "import os\n",
    "\n",
    "# 设置文件路径\n",
    "desktop_path = os.path.join(os.path.expanduser('~'), 'Desktop')\n",
    "cgss2021_path = os.path.join(desktop_path, 'CGSS2021.csv')\n",
    "cgss2018_path = os.path.join(desktop_path, 'CGSS2018.csv')\n",
    "output_path = os.path.join(desktop_path, 'merge_rawdata.csv')\n",
    "\n",
    "try:\n",
    "    # 读取两个CSV文件\n",
    "    df_2021 = pd.read_csv(cgss2021_path)\n",
    "    df_2018 = pd.read_csv(cgss2018_path)\n",
    "    \n",
    "    # 检查两个数据集的列是否一致\n",
    "    if set(df_2021.columns) != set(df_2018.columns):\n",
    "        print\n",
    "        common_columns = list(set(df_2021.columns) & set(df_2018.columns))\n",
    "        df_2021 = df_2021[common_columns]\n",
    "        df_2018 = df_2018[common_columns]\n",
    "    \n",
    "    # 添加年份标识列（可选）\n",
    "    df_2021['year'] = 2021\n",
    "    df_2018['year'] = 2018\n",
    "    \n",
    "    # 合并数据集\n",
    "    merged_df = pd.concat([df_2018, df_2021], ignore_index=True)\n",
    "    \n",
    "    # 保存合并后的数据集\n",
    "    merged_df.to_csv(output_path, index=False)\n",
    "    print(f\"合并完成，结果已保存到: {output_path}\")\n",
    "\n",
    "except FileNotFoundError as e:\n",
    "    print(f\"文件未找到: {e}\")\n",
    "except Exception as e:\n",
    "    print(f\"发生错误: {e}\")"
   ]
  }
 ],
 "metadata": {
  "kernelspec": {
   "display_name": "base",
   "language": "python",
   "name": "python3"
  },
  "language_info": {
   "codemirror_mode": {
    "name": "ipython",
    "version": 3
   },
   "file_extension": ".py",
   "mimetype": "text/x-python",
   "name": "python",
   "nbconvert_exporter": "python",
   "pygments_lexer": "ipython3",
   "version": "3.12.7"
  }
 },
 "nbformat": 4,
 "nbformat_minor": 5
}
